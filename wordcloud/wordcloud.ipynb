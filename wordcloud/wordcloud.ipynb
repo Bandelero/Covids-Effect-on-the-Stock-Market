{
 "cells": [
  {
   "cell_type": "code",
   "execution_count": 75,
   "metadata": {},
   "outputs": [],
   "source": [
    "import pandas as pd\n",
    "import numpy\n",
    "import matplotlib.pyplot as plt\n",
    "import datetime as dt\n",
    "sp500filepath=(\"../project data/indexes/^SP500.Last.txt\")\n"
   ]
  },
  {
   "cell_type": "code",
   "execution_count": 92,
   "metadata": {},
   "outputs": [
    {
     "data": {
      "text/html": [
       "<div>\n",
       "<style scoped>\n",
       "    .dataframe tbody tr th:only-of-type {\n",
       "        vertical-align: middle;\n",
       "    }\n",
       "\n",
       "    .dataframe tbody tr th {\n",
       "        vertical-align: top;\n",
       "    }\n",
       "\n",
       "    .dataframe thead th {\n",
       "        text-align: right;\n",
       "    }\n",
       "</style>\n",
       "<table border=\"1\" class=\"dataframe\">\n",
       "  <thead>\n",
       "    <tr style=\"text-align: right;\">\n",
       "      <th></th>\n",
       "      <th>Date</th>\n",
       "      <th>Open</th>\n",
       "      <th>High</th>\n",
       "      <th>Low</th>\n",
       "      <th>Close</th>\n",
       "      <th>Change</th>\n",
       "      <th>Percent_Change</th>\n",
       "    </tr>\n",
       "  </thead>\n",
       "  <tbody>\n",
       "    <tr>\n",
       "      <th>0</th>\n",
       "      <td>2020-02-03</td>\n",
       "      <td>3235.66</td>\n",
       "      <td>3268.44</td>\n",
       "      <td>3235.66</td>\n",
       "      <td>3248.92</td>\n",
       "      <td>13.26</td>\n",
       "      <td>0.409808</td>\n",
       "    </tr>\n",
       "    <tr>\n",
       "      <th>1</th>\n",
       "      <td>2020-02-04</td>\n",
       "      <td>3280.61</td>\n",
       "      <td>3306.92</td>\n",
       "      <td>3280.61</td>\n",
       "      <td>3297.59</td>\n",
       "      <td>16.98</td>\n",
       "      <td>0.517587</td>\n",
       "    </tr>\n",
       "    <tr>\n",
       "      <th>2</th>\n",
       "      <td>2020-02-05</td>\n",
       "      <td>3324.91</td>\n",
       "      <td>3337.58</td>\n",
       "      <td>3313.75</td>\n",
       "      <td>3334.69</td>\n",
       "      <td>9.78</td>\n",
       "      <td>0.294143</td>\n",
       "    </tr>\n",
       "    <tr>\n",
       "      <th>3</th>\n",
       "      <td>2020-02-06</td>\n",
       "      <td>3344.92</td>\n",
       "      <td>3347.96</td>\n",
       "      <td>3334.39</td>\n",
       "      <td>3345.78</td>\n",
       "      <td>0.86</td>\n",
       "      <td>0.025711</td>\n",
       "    </tr>\n",
       "    <tr>\n",
       "      <th>4</th>\n",
       "      <td>2020-02-07</td>\n",
       "      <td>3335.54</td>\n",
       "      <td>3341.42</td>\n",
       "      <td>3322.12</td>\n",
       "      <td>3327.71</td>\n",
       "      <td>-7.83</td>\n",
       "      <td>-0.234745</td>\n",
       "    </tr>\n",
       "  </tbody>\n",
       "</table>\n",
       "</div>"
      ],
      "text/plain": [
       "        Date     Open     High      Low    Close  Change  Percent_Change\n",
       "0 2020-02-03  3235.66  3268.44  3235.66  3248.92   13.26        0.409808\n",
       "1 2020-02-04  3280.61  3306.92  3280.61  3297.59   16.98        0.517587\n",
       "2 2020-02-05  3324.91  3337.58  3313.75  3334.69    9.78        0.294143\n",
       "3 2020-02-06  3344.92  3347.96  3334.39  3345.78    0.86        0.025711\n",
       "4 2020-02-07  3335.54  3341.42  3322.12  3327.71   -7.83       -0.234745"
      ]
     },
     "execution_count": 92,
     "metadata": {},
     "output_type": "execute_result"
    }
   ],
   "source": [
    "sp500df=pd.read_csv(sp500filepath,delimiter=';',header=None,names=['Date','Open','High','Low','Close','Volume'])\n",
    "sp500df.drop(labels='Volume',axis=1,inplace=True)\n",
    "sp500df['Change']=sp500df['Close']-sp500df['Open']\n",
    "sp500df['Percent_Change']=sp500df['Change']/sp500df['Open']*100\n",
    "sp500df['Date']=pd.to_datetime(sp500df['Date'],format='%Y%m%d')\n",
    "sp500df.head()"
   ]
  },
  {
   "cell_type": "code",
   "execution_count": 94,
   "metadata": {},
   "outputs": [
    {
     "data": {
      "text/plain": [
       "[<matplotlib.lines.Line2D at 0x1e0eb48fe80>]"
      ]
     },
     "execution_count": 94,
     "metadata": {},
     "output_type": "execute_result"
    },
    {
     "data": {
      "image/png": "[encoded data removed]",
      "text/plain": [
       "<Figure size 432x288 with 1 Axes>"
      ]
     },
     "metadata": {
      "needs_background": "light"
     },
     "output_type": "display_data"
    }
   ],
   "source": [
    "plt.plot(sp500df['Date'],sp500df['Close'])"
   ]
  },
  {
   "cell_type": "code",
   "execution_count": 101,
   "metadata": {
    "scrolled": true
   },
   "outputs": [
    {
     "data": {
      "text/plain": [
       "<AxesSubplot:>"
      ]
     },
     "execution_count": 101,
     "metadata": {},
     "output_type": "execute_result"
    },
    {
     "data": {
      "image/png": "[encoded data removed]",
      "text/plain": [
       "<Figure size 432x288 with 1 Axes>"
      ]
     },
     "metadata": {
      "needs_background": "light"
     },
     "output_type": "display_data"
    }
   ],
   "source": [
    "sp500df['Percent_Change'].plot(kind='box')"
   ]
  },
  {
   "cell_type": "code",
   "execution_count": 139,
   "metadata": {},
   "outputs": [
    {
     "name": "stdout",
     "output_type": "stream",
     "text": [
      "Upper Bound is 1.9887252389411838, and Lower Bound is -1.9177555348614888\n",
      "(32, 7)\n"
     ]
    }
   ],
   "source": [
    "# Calculate Quantiles/ IQR \n",
    "\n",
    "spdfQT=sp500df['Percent_Change'].quantile([.25,.5,.75])\n",
    "spIQR=spdfQT[.75]-spdfQT[.25]\n",
    "spUpBd=spdfQT[.75]+spIQR\n",
    "spLwBd=spdfQT[.25]-spIQR\n",
    "print(f'Upper Bound is {spUpBd}, and Lower Bound is {spLwBd}')\n",
    "\n",
    "# Select Outlier Data into a new Dataframe\n",
    "\n",
    "spOUT=sp500df.loc[(sp500df['Percent_Change'] < spLwBd) | (sp500df['Percent_Change'] > spUpBd)]\n",
    "print(spOUT.shape)\n"
   ]
  },
  {
   "cell_type": "code",
   "execution_count": 88,
   "metadata": {},
   "outputs": [
    {
     "data": {
      "text/plain": [
       "<BarContainer object of 32 artists>"
      ]
     },
     "execution_count": 88,
     "metadata": {},
     "output_type": "execute_result"
    },
    {
     "data": {
      "image/png": "[encoded data removed]",
      "text/plain": [
       "<Figure size 432x288 with 1 Axes>"
      ]
     },
     "metadata": {
      "needs_background": "light"
     },
     "output_type": "display_data"
    }
   ],
   "source": [
    "plt.bar(spOUT['Date'],spOUT['Percent_Change'])"
   ]
  },
  {
   "cell_type": "code",
   "execution_count": 135,
   "metadata": {},
   "outputs": [],
   "source": [
    "sp5df=sp500df.loc[sp500df['Date']>'2020-05']\n",
    "sp25df=sp500df.loc[sp500df['Date']<'2020-05']"
   ]
  },
  {
   "cell_type": "code",
   "execution_count": 137,
   "metadata": {
    "scrolled": false
   },
   "outputs": [
    {
     "data": {
      "text/plain": [
       "<matplotlib.collections.LineCollection at 0x1e0ec792d30>"
      ]
     },
     "execution_count": 137,
     "metadata": {},
     "output_type": "execute_result"
    },
    {
     "data": {
      "image/png": "[encoded data removed]",
      "text/plain": [
       "<Figure size 432x288 with 1 Axes>"
      ]
     },
     "metadata": {
      "needs_background": "light"
     },
     "output_type": "display_data"
    }
   ],
   "source": [
    "plt.bar(sp5df['Date'],sp5df['Percent_Change'])\n",
    "plt.hlines(y=(1,-1),xmin=sp5df['Date'].min(),xmax=sp5df['Date'].max(),color='r')"
   ]
  },
  {
   "cell_type": "code",
   "execution_count": 138,
   "metadata": {},
   "outputs": [
    {
     "data": {
      "text/plain": [
       "<BarContainer object of 62 artists>"
      ]
     },
     "execution_count": 138,
     "metadata": {},
     "output_type": "execute_result"
    },
    {
     "data": {
      "image/png": "[encoded data removed]",
      "text/plain": [
       "<Figure size 432x288 with 1 Axes>"
      ]
     },
     "metadata": {
      "needs_background": "light"
     },
     "output_type": "display_data"
    }
   ],
   "source": [
    "plt.bar(sp25df['Date'],sp25df['Percent_Change'])"
   ]
  },
  {
   "cell_type": "code",
   "execution_count": 124,
   "metadata": {},
   "outputs": [
    {
     "name": "stdout",
     "output_type": "stream",
     "text": [
      "Upper Bound is 1.7013427315795473, and Lower Bound is -1.5010320941174282\n"
     ]
    }
   ],
   "source": [
    "# Calculate Quantiles/ IQR after May \n",
    "\n",
    "sp5dfQT=sp5df['Percent_Change'].quantile([.25,.5,.75])\n",
    "sp5IQR=sp5dfQT[.75]-sp5dfQT[.25]\n",
    "sp5UpBd=sp5dfQT[.75]+sp5IQR\n",
    "sp5LwBd=sp5dfQT[.25]-sp5IQR\n",
    "print(f'Upper Bound is {sp5UpBd}, and Lower Bound is {sp5LwBd}')\n",
    "\n",
    "# Select Outlier Data into a new Dataframe\n",
    "\n",
    "sp5OUT=sp5df.loc[(sp5df['Percent_Change'] < sp5LwBd) | (sp5df['Percent_Change'] > sp5UpBd)]\n",
    "print(sp5OUT.shape)"
   ]
  },
  {
   "cell_type": "code",
   "execution_count": 147,
   "metadata": {},
   "outputs": [
    {
     "name": "stdout",
     "output_type": "stream",
     "text": [
      "There are 4 Really Green Days, and there are 14 Really Red Days\n"
     ]
    }
   ],
   "source": [
    "sp5Green=sp5OUT.loc[sp5OUT['Percent_Change'] > 0].sort_values(by='Percent_Change',ascending=False)\n",
    "sp5Red=sp5OUT.loc[sp5OUT['Percent_Change'] < 0].sort_values(by='Percent_Change',ascending=True)\n",
    "print(f'There are {sp5Green.shape[0]} Really Green Days, and there are {sp5Red.shape[0]} Really Red Days')"
   ]
  },
  {
   "cell_type": "code",
   "execution_count": 148,
   "metadata": {},
   "outputs": [
    {
     "data": {
      "text/html": [
       "<div>\n",
       "<style scoped>\n",
       "    .dataframe tbody tr th:only-of-type {\n",
       "        vertical-align: middle;\n",
       "    }\n",
       "\n",
       "    .dataframe tbody tr th {\n",
       "        vertical-align: top;\n",
       "    }\n",
       "\n",
       "    .dataframe thead th {\n",
       "        text-align: right;\n",
       "    }\n",
       "</style>\n",
       "<table border=\"1\" class=\"dataframe\">\n",
       "  <thead>\n",
       "    <tr style=\"text-align: right;\">\n",
       "      <th></th>\n",
       "      <th>Date</th>\n",
       "      <th>Open</th>\n",
       "      <th>High</th>\n",
       "      <th>Low</th>\n",
       "      <th>Close</th>\n",
       "      <th>Change</th>\n",
       "      <th>Percent_Change</th>\n",
       "    </tr>\n",
       "  </thead>\n",
       "  <tbody>\n",
       "    <tr>\n",
       "      <th>90</th>\n",
       "      <td>2020-06-11</td>\n",
       "      <td>3123.53</td>\n",
       "      <td>3123.53</td>\n",
       "      <td>2999.49</td>\n",
       "      <td>3002.10</td>\n",
       "      <td>-121.43</td>\n",
       "      <td>-3.887589</td>\n",
       "    </tr>\n",
       "    <tr>\n",
       "      <th>149</th>\n",
       "      <td>2020-09-03</td>\n",
       "      <td>3564.74</td>\n",
       "      <td>3564.85</td>\n",
       "      <td>3427.41</td>\n",
       "      <td>3455.06</td>\n",
       "      <td>-109.68</td>\n",
       "      <td>-3.076802</td>\n",
       "    </tr>\n",
       "    <tr>\n",
       "      <th>162</th>\n",
       "      <td>2020-09-23</td>\n",
       "      <td>3320.11</td>\n",
       "      <td>3323.35</td>\n",
       "      <td>3232.57</td>\n",
       "      <td>3236.92</td>\n",
       "      <td>-83.19</td>\n",
       "      <td>-2.505640</td>\n",
       "    </tr>\n",
       "    <tr>\n",
       "      <th>69</th>\n",
       "      <td>2020-05-12</td>\n",
       "      <td>2939.50</td>\n",
       "      <td>2945.82</td>\n",
       "      <td>2869.59</td>\n",
       "      <td>2870.12</td>\n",
       "      <td>-69.38</td>\n",
       "      <td>-2.360265</td>\n",
       "    </tr>\n",
       "    <tr>\n",
       "      <th>248</th>\n",
       "      <td>2021-01-27</td>\n",
       "      <td>3836.83</td>\n",
       "      <td>3836.83</td>\n",
       "      <td>3732.48</td>\n",
       "      <td>3750.77</td>\n",
       "      <td>-86.06</td>\n",
       "      <td>-2.242997</td>\n",
       "    </tr>\n",
       "    <tr>\n",
       "      <th>153</th>\n",
       "      <td>2020-09-10</td>\n",
       "      <td>3412.56</td>\n",
       "      <td>3425.55</td>\n",
       "      <td>3329.25</td>\n",
       "      <td>3339.19</td>\n",
       "      <td>-73.37</td>\n",
       "      <td>-2.149999</td>\n",
       "    </tr>\n",
       "    <tr>\n",
       "      <th>187</th>\n",
       "      <td>2020-10-28</td>\n",
       "      <td>3342.48</td>\n",
       "      <td>3342.48</td>\n",
       "      <td>3268.89</td>\n",
       "      <td>3271.03</td>\n",
       "      <td>-71.45</td>\n",
       "      <td>-2.137634</td>\n",
       "    </tr>\n",
       "    <tr>\n",
       "      <th>101</th>\n",
       "      <td>2020-06-26</td>\n",
       "      <td>3073.20</td>\n",
       "      <td>3073.73</td>\n",
       "      <td>3004.63</td>\n",
       "      <td>3009.05</td>\n",
       "      <td>-64.15</td>\n",
       "      <td>-2.087401</td>\n",
       "    </tr>\n",
       "    <tr>\n",
       "      <th>99</th>\n",
       "      <td>2020-06-24</td>\n",
       "      <td>3114.40</td>\n",
       "      <td>3115.01</td>\n",
       "      <td>3032.13</td>\n",
       "      <td>3050.33</td>\n",
       "      <td>-64.07</td>\n",
       "      <td>-2.057218</td>\n",
       "    </tr>\n",
       "    <tr>\n",
       "      <th>180</th>\n",
       "      <td>2020-10-19</td>\n",
       "      <td>3493.66</td>\n",
       "      <td>3502.42</td>\n",
       "      <td>3419.93</td>\n",
       "      <td>3426.92</td>\n",
       "      <td>-66.74</td>\n",
       "      <td>-1.910318</td>\n",
       "    </tr>\n",
       "    <tr>\n",
       "      <th>232</th>\n",
       "      <td>2021-01-04</td>\n",
       "      <td>3764.61</td>\n",
       "      <td>3769.99</td>\n",
       "      <td>3662.71</td>\n",
       "      <td>3700.65</td>\n",
       "      <td>-63.96</td>\n",
       "      <td>-1.698981</td>\n",
       "    </tr>\n",
       "    <tr>\n",
       "      <th>250</th>\n",
       "      <td>2021-01-29</td>\n",
       "      <td>3778.05</td>\n",
       "      <td>3778.05</td>\n",
       "      <td>3694.12</td>\n",
       "      <td>3714.24</td>\n",
       "      <td>-63.81</td>\n",
       "      <td>-1.688967</td>\n",
       "    </tr>\n",
       "    <tr>\n",
       "      <th>70</th>\n",
       "      <td>2020-05-13</td>\n",
       "      <td>2865.86</td>\n",
       "      <td>2874.14</td>\n",
       "      <td>2793.15</td>\n",
       "      <td>2820.00</td>\n",
       "      <td>-45.86</td>\n",
       "      <td>-1.600218</td>\n",
       "    </tr>\n",
       "    <tr>\n",
       "      <th>111</th>\n",
       "      <td>2020-07-13</td>\n",
       "      <td>3205.08</td>\n",
       "      <td>3235.32</td>\n",
       "      <td>3149.43</td>\n",
       "      <td>3155.22</td>\n",
       "      <td>-49.86</td>\n",
       "      <td>-1.555655</td>\n",
       "    </tr>\n",
       "  </tbody>\n",
       "</table>\n",
       "</div>"
      ],
      "text/plain": [
       "          Date     Open     High      Low    Close  Change  Percent_Change\n",
       "90  2020-06-11  3123.53  3123.53  2999.49  3002.10 -121.43       -3.887589\n",
       "149 2020-09-03  3564.74  3564.85  3427.41  3455.06 -109.68       -3.076802\n",
       "162 2020-09-23  3320.11  3323.35  3232.57  3236.92  -83.19       -2.505640\n",
       "69  2020-05-12  2939.50  2945.82  2869.59  2870.12  -69.38       -2.360265\n",
       "248 2021-01-27  3836.83  3836.83  3732.48  3750.77  -86.06       -2.242997\n",
       "153 2020-09-10  3412.56  3425.55  3329.25  3339.19  -73.37       -2.149999\n",
       "187 2020-10-28  3342.48  3342.48  3268.89  3271.03  -71.45       -2.137634\n",
       "101 2020-06-26  3073.20  3073.73  3004.63  3009.05  -64.15       -2.087401\n",
       "99  2020-06-24  3114.40  3115.01  3032.13  3050.33  -64.07       -2.057218\n",
       "180 2020-10-19  3493.66  3502.42  3419.93  3426.92  -66.74       -1.910318\n",
       "232 2021-01-04  3764.61  3769.99  3662.71  3700.65  -63.96       -1.698981\n",
       "250 2021-01-29  3778.05  3778.05  3694.12  3714.24  -63.81       -1.688967\n",
       "70  2020-05-13  2865.86  2874.14  2793.15  2820.00  -45.86       -1.600218\n",
       "111 2020-07-13  3205.08  3235.32  3149.43  3155.22  -49.86       -1.555655"
      ]
     },
     "execution_count": 148,
     "metadata": {},
     "output_type": "execute_result"
    }
   ],
   "source": [
    "sp5Red"
   ]
  },
  {
   "cell_type": "code",
   "execution_count": null,
   "metadata": {},
   "outputs": [],
   "source": []
  }
 ],
 "metadata": {
  "kernelspec": {
   "display_name": "Python 3",
   "language": "python",
   "name": "python3"
  },
  "language_info": {
   "codemirror_mode": {
    "name": "ipython",
    "version": 3
   },
   "file_extension": ".py",
   "mimetype": "text/x-python",
   "name": "python",
   "nbconvert_exporter": "python",
   "pygments_lexer": "ipython3",
   "version": "3.8.5"
  }
 },
 "nbformat": 4,
 "nbformat_minor": 4
}
